{
 "cells": [
  {
   "cell_type": "code",
   "execution_count": 1,
   "id": "a258e459",
   "metadata": {},
   "outputs": [],
   "source": [
    "import pandas as pd\n",
    "import numpy as np"
   ]
  },
  {
   "cell_type": "code",
   "execution_count": 2,
   "id": "a224dbbc",
   "metadata": {},
   "outputs": [
    {
     "name": "stderr",
     "output_type": "stream",
     "text": [
      "C:\\Users\\User\\AppData\\Local\\Temp\\ipykernel_2864\\1772567852.py:6: DtypeWarning: Columns (10) have mixed types. Specify dtype option on import or set low_memory=False.\n",
      "  movies_metadata = pd.read_csv('train_dt/movies_metadata.csv')\n"
     ]
    }
   ],
   "source": [
    "#load training dataset\n",
    "#ratings_big = pd.read_csv('train_dt/ratings.csv') \n",
    "    # movies_metadata와 merge 한 후의 갯수 : 11428646\n",
    "ratings = pd.read_csv('train_dt/ratings_small.csv')\n",
    "\n",
    "movies_metadata = pd.read_csv('train_dt/movies_metadata.csv')\n",
    "\n",
    "credits = pd.read_csv('train_dt/credits.csv')\n",
    "\n",
    "keywords = pd.read_csv('train_dt/keywords.csv')\n",
    "\n",
    "links = pd.read_csv('train_dt/links.csv')"
   ]
  },
  {
   "cell_type": "markdown",
   "id": "04966679",
   "metadata": {},
   "source": [
    "movies_metadata processing"
   ]
  },
  {
   "cell_type": "code",
   "execution_count": 3,
   "id": "caebd4d6",
   "metadata": {},
   "outputs": [],
   "source": [
    "#나중에 최종결과 보여줄 때 movies_metadata_origin을 사용할 예정\n",
    "movies_metadata_origin = movies_metadata"
   ]
  },
  {
   "cell_type": "code",
   "execution_count": 4,
   "id": "96658ca9",
   "metadata": {
    "scrolled": true
   },
   "outputs": [],
   "source": [
    "#계산에 불필요한 ft drop\n",
    "movies_metadata.drop(['homepage','overview', 'tagline', 'poster_path'], axis = 1, inplace = True)\n",
    "\n",
    "#이 두 ft는 kaggle에는 안뜨는 데 다운받으면 있음\n",
    "#의미를 몰라서 일단 drop\n",
    "movies_metadata.drop(['vote_average','vote_count'], axis = 1, inplace = True)\n",
    "\n",
    "#movies_metadata_origin[movies_metadata_origin['production_companies'] == \"[]\"] -> 결과 : 11559 \n",
    "#null값이 11559개(전체 movie dataset : 45031개)라 총 1/4정도를 차지해서 없애는 것이 낫다고 판단\n",
    "movies_metadata.drop(['production_companies'], axis = 1, inplace = True)"
   ]
  },
  {
   "cell_type": "code",
   "execution_count": 5,
   "id": "b2c7a01b",
   "metadata": {},
   "outputs": [],
   "source": [
    "#belongs_to_collection null 값을 no collection 값으로 변경\n",
    "movies_metadata['belongs_to_collection'].replace(np.nan,'no collection', inplace = True)"
   ]
  },
  {
   "cell_type": "code",
   "execution_count": 6,
   "id": "4f2777b0",
   "metadata": {},
   "outputs": [],
   "source": [
    "#null값 없애기\n",
    "movies_metadata.dropna(inplace = True)"
   ]
  },
  {
   "cell_type": "code",
   "execution_count": 7,
   "id": "ba2464f2",
   "metadata": {},
   "outputs": [],
   "source": [
    "#'genres', 'proudction_countries'가 null인 경우 drop\n",
    "movies_metadata = movies_metadata.loc[movies_metadata_origin['genres'] != \"[]\"]\n",
    "movies_metadata = movies_metadata.loc[movies_metadata_origin['production_countries'] != \"[]\"]"
   ]
  },
  {
   "cell_type": "code",
   "execution_count": 8,
   "id": "5df8a6a0",
   "metadata": {},
   "outputs": [
    {
     "data": {
      "text/plain": [
       "29600"
      ]
     },
     "execution_count": 8,
     "metadata": {},
     "output_type": "execute_result"
    }
   ],
   "source": [
    "#movies_metadata에서 budget이 0 인 것 개수\n",
    "len(movies_metadata.loc[movies_metadata['budget'] == '0']['budget'])"
   ]
  },
  {
   "cell_type": "code",
   "execution_count": 9,
   "id": "a75b5953",
   "metadata": {},
   "outputs": [],
   "source": [
    "movies_metadata['budget'] = pd.to_numeric(movies_metadata['budget'])"
   ]
  },
  {
   "cell_type": "code",
   "execution_count": 10,
   "id": "769369de",
   "metadata": {},
   "outputs": [],
   "source": [
    "#movies_metadata['budget'] 0인 것은 나머지의 평균으로 넣는다.\n",
    "budget_mean = movies_metadata.loc[movies_metadata['budget'] != 0]['budget'].mean()\n",
    "movies_metadata['budget'].replace(0, budget_mean, inplace = True)"
   ]
  },
  {
   "cell_type": "code",
   "execution_count": 11,
   "id": "a0afe4e9",
   "metadata": {},
   "outputs": [],
   "source": [
    "#'id'형식이 날짜 형식인 경우 -> 잘못된 경우\n",
    "#ex) ValueError: Unable to parse string \"2012-09-29\" at position 29502\n",
    "movies_metadata['isIdRight'] = movies_metadata['id'].str.contains('|'.join('-'))\n",
    "movies_metadata = movies_metadata[movies_metadata['isIdRight'] == False]\n",
    "movies_metadata.drop(['isIdRight'], axis = 1, inplace = True)"
   ]
  },
  {
   "cell_type": "code",
   "execution_count": 12,
   "id": "ffee2472",
   "metadata": {},
   "outputs": [],
   "source": [
    "#추후 merge를 위해 index id의 값들을 숫자형태로 변경\n",
    "movies_metadata.loc['id'] = movies_metadata['id'].astype('str')\n",
    "movies_metadata['id'] = pd.to_numeric(movies_metadata['id'])"
   ]
  },
  {
   "cell_type": "markdown",
   "id": "ec2e5b49",
   "metadata": {},
   "source": [
    "credits preprocessing"
   ]
  },
  {
   "cell_type": "code",
   "execution_count": 23,
   "id": "89cb5021",
   "metadata": {},
   "outputs": [],
   "source": [
    "#credits의 [] - null값 제거\n",
    "credits = credits.loc[credits['cast'] != \"[]\"]\n",
    "credits = credits.loc[credits['crew'] != \"[]\"]"
   ]
  },
  {
   "cell_type": "code",
   "execution_count": 24,
   "id": "bd044396",
   "metadata": {},
   "outputs": [],
   "source": [
    "#추후 merge를 위해 index id의 값들을 숫자형태로 변경\n",
    "credits['id'] = pd.to_numeric(credits['id'])"
   ]
  },
  {
   "cell_type": "markdown",
   "id": "3a0d133d",
   "metadata": {},
   "source": [
    "merging for making complete training dataset"
   ]
  },
  {
   "cell_type": "code",
   "execution_count": 26,
   "id": "e77569e4",
   "metadata": {},
   "outputs": [],
   "source": [
    "all_movie_df = pd.merge(movies_metadata, credits)"
   ]
  },
  {
   "cell_type": "code",
   "execution_count": 27,
   "id": "c0378e3b",
   "metadata": {
    "scrolled": true
   },
   "outputs": [
    {
     "data": {
      "text/html": [
       "<div>\n",
       "<style scoped>\n",
       "    .dataframe tbody tr th:only-of-type {\n",
       "        vertical-align: middle;\n",
       "    }\n",
       "\n",
       "    .dataframe tbody tr th {\n",
       "        vertical-align: top;\n",
       "    }\n",
       "\n",
       "    .dataframe thead th {\n",
       "        text-align: right;\n",
       "    }\n",
       "</style>\n",
       "<table border=\"1\" class=\"dataframe\">\n",
       "  <thead>\n",
       "    <tr style=\"text-align: right;\">\n",
       "      <th></th>\n",
       "      <th>adult</th>\n",
       "      <th>belongs_to_collection</th>\n",
       "      <th>budget</th>\n",
       "      <th>genres</th>\n",
       "      <th>id</th>\n",
       "      <th>imdb_id</th>\n",
       "      <th>original_language</th>\n",
       "      <th>original_title</th>\n",
       "      <th>popularity</th>\n",
       "      <th>production_countries</th>\n",
       "      <th>release_date</th>\n",
       "      <th>revenue</th>\n",
       "      <th>runtime</th>\n",
       "      <th>spoken_languages</th>\n",
       "      <th>status</th>\n",
       "      <th>title</th>\n",
       "      <th>video</th>\n",
       "      <th>cast</th>\n",
       "      <th>crew</th>\n",
       "    </tr>\n",
       "  </thead>\n",
       "  <tbody>\n",
       "    <tr>\n",
       "      <th>0</th>\n",
       "      <td>False</td>\n",
       "      <td>{'id': 10194, 'name': 'Toy Story Collection', ...</td>\n",
       "      <td>3.000000e+07</td>\n",
       "      <td>[{'id': 16, 'name': 'Animation'}, {'id': 35, '...</td>\n",
       "      <td>862.0</td>\n",
       "      <td>tt0114709</td>\n",
       "      <td>en</td>\n",
       "      <td>Toy Story</td>\n",
       "      <td>21.946943</td>\n",
       "      <td>[{'iso_3166_1': 'US', 'name': 'United States o...</td>\n",
       "      <td>1995-10-30</td>\n",
       "      <td>373554033.0</td>\n",
       "      <td>81.0</td>\n",
       "      <td>[{'iso_639_1': 'en', 'name': 'English'}]</td>\n",
       "      <td>Released</td>\n",
       "      <td>Toy Story</td>\n",
       "      <td>False</td>\n",
       "      <td>[{'cast_id': 14, 'character': 'Woody (voice)',...</td>\n",
       "      <td>[{'credit_id': '52fe4284c3a36847f8024f49', 'de...</td>\n",
       "    </tr>\n",
       "    <tr>\n",
       "      <th>1</th>\n",
       "      <td>False</td>\n",
       "      <td>no collection</td>\n",
       "      <td>6.500000e+07</td>\n",
       "      <td>[{'id': 12, 'name': 'Adventure'}, {'id': 14, '...</td>\n",
       "      <td>8844.0</td>\n",
       "      <td>tt0113497</td>\n",
       "      <td>en</td>\n",
       "      <td>Jumanji</td>\n",
       "      <td>17.015539</td>\n",
       "      <td>[{'iso_3166_1': 'US', 'name': 'United States o...</td>\n",
       "      <td>1995-12-15</td>\n",
       "      <td>262797249.0</td>\n",
       "      <td>104.0</td>\n",
       "      <td>[{'iso_639_1': 'en', 'name': 'English'}, {'iso...</td>\n",
       "      <td>Released</td>\n",
       "      <td>Jumanji</td>\n",
       "      <td>False</td>\n",
       "      <td>[{'cast_id': 1, 'character': 'Alan Parrish', '...</td>\n",
       "      <td>[{'credit_id': '52fe44bfc3a36847f80a7cd1', 'de...</td>\n",
       "    </tr>\n",
       "    <tr>\n",
       "      <th>2</th>\n",
       "      <td>False</td>\n",
       "      <td>{'id': 119050, 'name': 'Grumpy Old Men Collect...</td>\n",
       "      <td>2.232716e+07</td>\n",
       "      <td>[{'id': 10749, 'name': 'Romance'}, {'id': 35, ...</td>\n",
       "      <td>15602.0</td>\n",
       "      <td>tt0113228</td>\n",
       "      <td>en</td>\n",
       "      <td>Grumpier Old Men</td>\n",
       "      <td>11.7129</td>\n",
       "      <td>[{'iso_3166_1': 'US', 'name': 'United States o...</td>\n",
       "      <td>1995-12-22</td>\n",
       "      <td>0.0</td>\n",
       "      <td>101.0</td>\n",
       "      <td>[{'iso_639_1': 'en', 'name': 'English'}]</td>\n",
       "      <td>Released</td>\n",
       "      <td>Grumpier Old Men</td>\n",
       "      <td>False</td>\n",
       "      <td>[{'cast_id': 2, 'character': 'Max Goldman', 'c...</td>\n",
       "      <td>[{'credit_id': '52fe466a9251416c75077a89', 'de...</td>\n",
       "    </tr>\n",
       "    <tr>\n",
       "      <th>3</th>\n",
       "      <td>False</td>\n",
       "      <td>no collection</td>\n",
       "      <td>1.600000e+07</td>\n",
       "      <td>[{'id': 35, 'name': 'Comedy'}, {'id': 18, 'nam...</td>\n",
       "      <td>31357.0</td>\n",
       "      <td>tt0114885</td>\n",
       "      <td>en</td>\n",
       "      <td>Waiting to Exhale</td>\n",
       "      <td>3.859495</td>\n",
       "      <td>[{'iso_3166_1': 'US', 'name': 'United States o...</td>\n",
       "      <td>1995-12-22</td>\n",
       "      <td>81452156.0</td>\n",
       "      <td>127.0</td>\n",
       "      <td>[{'iso_639_1': 'en', 'name': 'English'}]</td>\n",
       "      <td>Released</td>\n",
       "      <td>Waiting to Exhale</td>\n",
       "      <td>False</td>\n",
       "      <td>[{'cast_id': 1, 'character': \"Savannah 'Vannah...</td>\n",
       "      <td>[{'credit_id': '52fe44779251416c91011acb', 'de...</td>\n",
       "    </tr>\n",
       "    <tr>\n",
       "      <th>4</th>\n",
       "      <td>False</td>\n",
       "      <td>{'id': 96871, 'name': 'Father of the Bride Col...</td>\n",
       "      <td>2.232716e+07</td>\n",
       "      <td>[{'id': 35, 'name': 'Comedy'}]</td>\n",
       "      <td>11862.0</td>\n",
       "      <td>tt0113041</td>\n",
       "      <td>en</td>\n",
       "      <td>Father of the Bride Part II</td>\n",
       "      <td>8.387519</td>\n",
       "      <td>[{'iso_3166_1': 'US', 'name': 'United States o...</td>\n",
       "      <td>1995-02-10</td>\n",
       "      <td>76578911.0</td>\n",
       "      <td>106.0</td>\n",
       "      <td>[{'iso_639_1': 'en', 'name': 'English'}]</td>\n",
       "      <td>Released</td>\n",
       "      <td>Father of the Bride Part II</td>\n",
       "      <td>False</td>\n",
       "      <td>[{'cast_id': 1, 'character': 'George Banks', '...</td>\n",
       "      <td>[{'credit_id': '52fe44959251416c75039ed7', 'de...</td>\n",
       "    </tr>\n",
       "    <tr>\n",
       "      <th>...</th>\n",
       "      <td>...</td>\n",
       "      <td>...</td>\n",
       "      <td>...</td>\n",
       "      <td>...</td>\n",
       "      <td>...</td>\n",
       "      <td>...</td>\n",
       "      <td>...</td>\n",
       "      <td>...</td>\n",
       "      <td>...</td>\n",
       "      <td>...</td>\n",
       "      <td>...</td>\n",
       "      <td>...</td>\n",
       "      <td>...</td>\n",
       "      <td>...</td>\n",
       "      <td>...</td>\n",
       "      <td>...</td>\n",
       "      <td>...</td>\n",
       "      <td>...</td>\n",
       "      <td>...</td>\n",
       "    </tr>\n",
       "    <tr>\n",
       "      <th>37232</th>\n",
       "      <td>False</td>\n",
       "      <td>no collection</td>\n",
       "      <td>2.232716e+07</td>\n",
       "      <td>[{'id': 27, 'name': 'Horror'}]</td>\n",
       "      <td>289923.0</td>\n",
       "      <td>tt0252966</td>\n",
       "      <td>en</td>\n",
       "      <td>The Burkittsville 7</td>\n",
       "      <td>0.38645</td>\n",
       "      <td>[{'iso_3166_1': 'US', 'name': 'United States o...</td>\n",
       "      <td>2000-10-03</td>\n",
       "      <td>0.0</td>\n",
       "      <td>30.0</td>\n",
       "      <td>[{'iso_639_1': 'en', 'name': 'English'}]</td>\n",
       "      <td>Released</td>\n",
       "      <td>The Burkittsville 7</td>\n",
       "      <td>False</td>\n",
       "      <td>[{'cast_id': 2, 'character': 'Branwall', 'cred...</td>\n",
       "      <td>[{'credit_id': '5403d669c3a3682d9800427d', 'de...</td>\n",
       "    </tr>\n",
       "    <tr>\n",
       "      <th>37233</th>\n",
       "      <td>False</td>\n",
       "      <td>no collection</td>\n",
       "      <td>2.232716e+07</td>\n",
       "      <td>[{'id': 878, 'name': 'Science Fiction'}]</td>\n",
       "      <td>222848.0</td>\n",
       "      <td>tt0112613</td>\n",
       "      <td>en</td>\n",
       "      <td>Caged Heat 3000</td>\n",
       "      <td>0.661558</td>\n",
       "      <td>[{'iso_3166_1': 'US', 'name': 'United States o...</td>\n",
       "      <td>1995-01-01</td>\n",
       "      <td>0.0</td>\n",
       "      <td>85.0</td>\n",
       "      <td>[{'iso_639_1': 'en', 'name': 'English'}]</td>\n",
       "      <td>Released</td>\n",
       "      <td>Caged Heat 3000</td>\n",
       "      <td>False</td>\n",
       "      <td>[{'cast_id': 1, 'character': 'Kira (as Cassand...</td>\n",
       "      <td>[{'credit_id': '5757f36ac3a3687d6f000e8a', 'de...</td>\n",
       "    </tr>\n",
       "    <tr>\n",
       "      <th>37234</th>\n",
       "      <td>False</td>\n",
       "      <td>no collection</td>\n",
       "      <td>2.232716e+07</td>\n",
       "      <td>[{'id': 18, 'name': 'Drama'}, {'id': 28, 'name...</td>\n",
       "      <td>30840.0</td>\n",
       "      <td>tt0102797</td>\n",
       "      <td>en</td>\n",
       "      <td>Robin Hood</td>\n",
       "      <td>5.683753</td>\n",
       "      <td>[{'iso_3166_1': 'CA', 'name': 'Canada'}, {'iso...</td>\n",
       "      <td>1991-05-13</td>\n",
       "      <td>0.0</td>\n",
       "      <td>104.0</td>\n",
       "      <td>[{'iso_639_1': 'en', 'name': 'English'}]</td>\n",
       "      <td>Released</td>\n",
       "      <td>Robin Hood</td>\n",
       "      <td>False</td>\n",
       "      <td>[{'cast_id': 1, 'character': 'Sir Robert Hode'...</td>\n",
       "      <td>[{'credit_id': '52fe44439251416c9100a899', 'de...</td>\n",
       "    </tr>\n",
       "    <tr>\n",
       "      <th>37235</th>\n",
       "      <td>False</td>\n",
       "      <td>no collection</td>\n",
       "      <td>2.232716e+07</td>\n",
       "      <td>[{'id': 18, 'name': 'Drama'}]</td>\n",
       "      <td>111109.0</td>\n",
       "      <td>tt2028550</td>\n",
       "      <td>tl</td>\n",
       "      <td>Siglo ng Pagluluwal</td>\n",
       "      <td>0.178241</td>\n",
       "      <td>[{'iso_3166_1': 'PH', 'name': 'Philippines'}]</td>\n",
       "      <td>2011-11-17</td>\n",
       "      <td>0.0</td>\n",
       "      <td>360.0</td>\n",
       "      <td>[{'iso_639_1': 'tl', 'name': ''}]</td>\n",
       "      <td>Released</td>\n",
       "      <td>Century of Birthing</td>\n",
       "      <td>False</td>\n",
       "      <td>[{'cast_id': 1002, 'character': 'Sister Angela...</td>\n",
       "      <td>[{'credit_id': '52fe4af1c3a36847f81e9b15', 'de...</td>\n",
       "    </tr>\n",
       "    <tr>\n",
       "      <th>37236</th>\n",
       "      <td>False</td>\n",
       "      <td>no collection</td>\n",
       "      <td>2.232716e+07</td>\n",
       "      <td>[{'id': 28, 'name': 'Action'}, {'id': 18, 'nam...</td>\n",
       "      <td>67758.0</td>\n",
       "      <td>tt0303758</td>\n",
       "      <td>en</td>\n",
       "      <td>Betrayal</td>\n",
       "      <td>0.903007</td>\n",
       "      <td>[{'iso_3166_1': 'US', 'name': 'United States o...</td>\n",
       "      <td>2003-08-01</td>\n",
       "      <td>0.0</td>\n",
       "      <td>90.0</td>\n",
       "      <td>[{'iso_639_1': 'en', 'name': 'English'}]</td>\n",
       "      <td>Released</td>\n",
       "      <td>Betrayal</td>\n",
       "      <td>False</td>\n",
       "      <td>[{'cast_id': 6, 'character': 'Emily Shaw', 'cr...</td>\n",
       "      <td>[{'credit_id': '52fe4776c3a368484e0c8387', 'de...</td>\n",
       "    </tr>\n",
       "  </tbody>\n",
       "</table>\n",
       "<p>37237 rows × 19 columns</p>\n",
       "</div>"
      ],
      "text/plain": [
       "       adult                              belongs_to_collection        budget  \\\n",
       "0      False  {'id': 10194, 'name': 'Toy Story Collection', ...  3.000000e+07   \n",
       "1      False                                      no collection  6.500000e+07   \n",
       "2      False  {'id': 119050, 'name': 'Grumpy Old Men Collect...  2.232716e+07   \n",
       "3      False                                      no collection  1.600000e+07   \n",
       "4      False  {'id': 96871, 'name': 'Father of the Bride Col...  2.232716e+07   \n",
       "...      ...                                                ...           ...   \n",
       "37232  False                                      no collection  2.232716e+07   \n",
       "37233  False                                      no collection  2.232716e+07   \n",
       "37234  False                                      no collection  2.232716e+07   \n",
       "37235  False                                      no collection  2.232716e+07   \n",
       "37236  False                                      no collection  2.232716e+07   \n",
       "\n",
       "                                                  genres        id    imdb_id  \\\n",
       "0      [{'id': 16, 'name': 'Animation'}, {'id': 35, '...     862.0  tt0114709   \n",
       "1      [{'id': 12, 'name': 'Adventure'}, {'id': 14, '...    8844.0  tt0113497   \n",
       "2      [{'id': 10749, 'name': 'Romance'}, {'id': 35, ...   15602.0  tt0113228   \n",
       "3      [{'id': 35, 'name': 'Comedy'}, {'id': 18, 'nam...   31357.0  tt0114885   \n",
       "4                         [{'id': 35, 'name': 'Comedy'}]   11862.0  tt0113041   \n",
       "...                                                  ...       ...        ...   \n",
       "37232                     [{'id': 27, 'name': 'Horror'}]  289923.0  tt0252966   \n",
       "37233           [{'id': 878, 'name': 'Science Fiction'}]  222848.0  tt0112613   \n",
       "37234  [{'id': 18, 'name': 'Drama'}, {'id': 28, 'name...   30840.0  tt0102797   \n",
       "37235                      [{'id': 18, 'name': 'Drama'}]  111109.0  tt2028550   \n",
       "37236  [{'id': 28, 'name': 'Action'}, {'id': 18, 'nam...   67758.0  tt0303758   \n",
       "\n",
       "      original_language               original_title popularity  \\\n",
       "0                    en                    Toy Story  21.946943   \n",
       "1                    en                      Jumanji  17.015539   \n",
       "2                    en             Grumpier Old Men    11.7129   \n",
       "3                    en            Waiting to Exhale   3.859495   \n",
       "4                    en  Father of the Bride Part II   8.387519   \n",
       "...                 ...                          ...        ...   \n",
       "37232                en          The Burkittsville 7    0.38645   \n",
       "37233                en              Caged Heat 3000   0.661558   \n",
       "37234                en                   Robin Hood   5.683753   \n",
       "37235                tl          Siglo ng Pagluluwal   0.178241   \n",
       "37236                en                     Betrayal   0.903007   \n",
       "\n",
       "                                    production_countries release_date  \\\n",
       "0      [{'iso_3166_1': 'US', 'name': 'United States o...   1995-10-30   \n",
       "1      [{'iso_3166_1': 'US', 'name': 'United States o...   1995-12-15   \n",
       "2      [{'iso_3166_1': 'US', 'name': 'United States o...   1995-12-22   \n",
       "3      [{'iso_3166_1': 'US', 'name': 'United States o...   1995-12-22   \n",
       "4      [{'iso_3166_1': 'US', 'name': 'United States o...   1995-02-10   \n",
       "...                                                  ...          ...   \n",
       "37232  [{'iso_3166_1': 'US', 'name': 'United States o...   2000-10-03   \n",
       "37233  [{'iso_3166_1': 'US', 'name': 'United States o...   1995-01-01   \n",
       "37234  [{'iso_3166_1': 'CA', 'name': 'Canada'}, {'iso...   1991-05-13   \n",
       "37235      [{'iso_3166_1': 'PH', 'name': 'Philippines'}]   2011-11-17   \n",
       "37236  [{'iso_3166_1': 'US', 'name': 'United States o...   2003-08-01   \n",
       "\n",
       "           revenue  runtime  \\\n",
       "0      373554033.0     81.0   \n",
       "1      262797249.0    104.0   \n",
       "2              0.0    101.0   \n",
       "3       81452156.0    127.0   \n",
       "4       76578911.0    106.0   \n",
       "...            ...      ...   \n",
       "37232          0.0     30.0   \n",
       "37233          0.0     85.0   \n",
       "37234          0.0    104.0   \n",
       "37235          0.0    360.0   \n",
       "37236          0.0     90.0   \n",
       "\n",
       "                                        spoken_languages    status  \\\n",
       "0               [{'iso_639_1': 'en', 'name': 'English'}]  Released   \n",
       "1      [{'iso_639_1': 'en', 'name': 'English'}, {'iso...  Released   \n",
       "2               [{'iso_639_1': 'en', 'name': 'English'}]  Released   \n",
       "3               [{'iso_639_1': 'en', 'name': 'English'}]  Released   \n",
       "4               [{'iso_639_1': 'en', 'name': 'English'}]  Released   \n",
       "...                                                  ...       ...   \n",
       "37232           [{'iso_639_1': 'en', 'name': 'English'}]  Released   \n",
       "37233           [{'iso_639_1': 'en', 'name': 'English'}]  Released   \n",
       "37234           [{'iso_639_1': 'en', 'name': 'English'}]  Released   \n",
       "37235                  [{'iso_639_1': 'tl', 'name': ''}]  Released   \n",
       "37236           [{'iso_639_1': 'en', 'name': 'English'}]  Released   \n",
       "\n",
       "                             title  video  \\\n",
       "0                        Toy Story  False   \n",
       "1                          Jumanji  False   \n",
       "2                 Grumpier Old Men  False   \n",
       "3                Waiting to Exhale  False   \n",
       "4      Father of the Bride Part II  False   \n",
       "...                            ...    ...   \n",
       "37232          The Burkittsville 7  False   \n",
       "37233              Caged Heat 3000  False   \n",
       "37234                   Robin Hood  False   \n",
       "37235          Century of Birthing  False   \n",
       "37236                     Betrayal  False   \n",
       "\n",
       "                                                    cast  \\\n",
       "0      [{'cast_id': 14, 'character': 'Woody (voice)',...   \n",
       "1      [{'cast_id': 1, 'character': 'Alan Parrish', '...   \n",
       "2      [{'cast_id': 2, 'character': 'Max Goldman', 'c...   \n",
       "3      [{'cast_id': 1, 'character': \"Savannah 'Vannah...   \n",
       "4      [{'cast_id': 1, 'character': 'George Banks', '...   \n",
       "...                                                  ...   \n",
       "37232  [{'cast_id': 2, 'character': 'Branwall', 'cred...   \n",
       "37233  [{'cast_id': 1, 'character': 'Kira (as Cassand...   \n",
       "37234  [{'cast_id': 1, 'character': 'Sir Robert Hode'...   \n",
       "37235  [{'cast_id': 1002, 'character': 'Sister Angela...   \n",
       "37236  [{'cast_id': 6, 'character': 'Emily Shaw', 'cr...   \n",
       "\n",
       "                                                    crew  \n",
       "0      [{'credit_id': '52fe4284c3a36847f8024f49', 'de...  \n",
       "1      [{'credit_id': '52fe44bfc3a36847f80a7cd1', 'de...  \n",
       "2      [{'credit_id': '52fe466a9251416c75077a89', 'de...  \n",
       "3      [{'credit_id': '52fe44779251416c91011acb', 'de...  \n",
       "4      [{'credit_id': '52fe44959251416c75039ed7', 'de...  \n",
       "...                                                  ...  \n",
       "37232  [{'credit_id': '5403d669c3a3682d9800427d', 'de...  \n",
       "37233  [{'credit_id': '5757f36ac3a3687d6f000e8a', 'de...  \n",
       "37234  [{'credit_id': '52fe44439251416c9100a899', 'de...  \n",
       "37235  [{'credit_id': '52fe4af1c3a36847f81e9b15', 'de...  \n",
       "37236  [{'credit_id': '52fe4776c3a368484e0c8387', 'de...  \n",
       "\n",
       "[37237 rows x 19 columns]"
      ]
     },
     "execution_count": 27,
     "metadata": {},
     "output_type": "execute_result"
    }
   ],
   "source": [
    "all_movie_df"
   ]
  },
  {
   "cell_type": "code",
   "execution_count": 28,
   "id": "8c484f48",
   "metadata": {
    "scrolled": true
   },
   "outputs": [
    {
     "data": {
      "text/plain": [
       "adult                    0\n",
       "belongs_to_collection    0\n",
       "budget                   0\n",
       "genres                   0\n",
       "id                       0\n",
       "imdb_id                  0\n",
       "original_language        0\n",
       "original_title           0\n",
       "popularity               0\n",
       "production_countries     0\n",
       "release_date             0\n",
       "revenue                  0\n",
       "runtime                  0\n",
       "spoken_languages         0\n",
       "status                   0\n",
       "title                    0\n",
       "video                    0\n",
       "cast                     0\n",
       "crew                     0\n",
       "dtype: int64"
      ]
     },
     "execution_count": 28,
     "metadata": {},
     "output_type": "execute_result"
    }
   ],
   "source": [
    "all_movie_df.isnull().sum()"
   ]
  },
  {
   "cell_type": "code",
   "execution_count": null,
   "id": "120b07c4",
   "metadata": {},
   "outputs": [],
   "source": [
    "ratings['movieId'] = ratings['movieId'].astype('str')\n",
    "new_df = ratings.merge(movies_metadata, how = 'left', left_on = 'movieId', right_on = 'id')"
   ]
  },
  {
   "cell_type": "code",
   "execution_count": null,
   "id": "31d2eeac",
   "metadata": {},
   "outputs": [],
   "source": [
    "print(len(new_df))\n",
    "new_df.head(5)"
   ]
  },
  {
   "cell_type": "code",
   "execution_count": null,
   "id": "7db66907",
   "metadata": {},
   "outputs": [],
   "source": [
    "new_df.dropna(inplace = True)"
   ]
  },
  {
   "cell_type": "code",
   "execution_count": null,
   "id": "ca6be895",
   "metadata": {},
   "outputs": [],
   "source": [
    "len(new_df)"
   ]
  },
  {
   "cell_type": "code",
   "execution_count": null,
   "id": "8f6522fb",
   "metadata": {},
   "outputs": [],
   "source": [
    "new_df.head(5)"
   ]
  },
  {
   "cell_type": "code",
   "execution_count": null,
   "id": "19f3699c",
   "metadata": {},
   "outputs": [],
   "source": [
    "len(ratings)"
   ]
  },
  {
   "cell_type": "code",
   "execution_count": null,
   "id": "5734e076",
   "metadata": {},
   "outputs": [],
   "source": [
    "len(movies_metadata)"
   ]
  },
  {
   "cell_type": "code",
   "execution_count": null,
   "id": "3680e368",
   "metadata": {},
   "outputs": [],
   "source": []
  }
 ],
 "metadata": {
  "kernelspec": {
   "display_name": "Python 3 (ipykernel)",
   "language": "python",
   "name": "python3"
  },
  "language_info": {
   "codemirror_mode": {
    "name": "ipython",
    "version": 3
   },
   "file_extension": ".py",
   "mimetype": "text/x-python",
   "name": "python",
   "nbconvert_exporter": "python",
   "pygments_lexer": "ipython3",
   "version": "3.9.13"
  }
 },
 "nbformat": 4,
 "nbformat_minor": 5
}
